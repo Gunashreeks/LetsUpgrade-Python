{
  "nbformat": 4,
  "nbformat_minor": 0,
  "metadata": {
    "colab": {
      "name": "Guna.ipynb",
      "provenance": [],
      "authorship_tag": "ABX9TyPQip1TjQ7gpNH5A2uDDgOB",
      "include_colab_link": true
    },
    "kernelspec": {
      "name": "python3",
      "display_name": "Python 3"
    }
  },
  "cells": [
    {
      "cell_type": "markdown",
      "metadata": {
        "id": "view-in-github",
        "colab_type": "text"
      },
      "source": [
        "<a href=\"https://colab.research.google.com/github/Gunashreeks/LetsUpgrade-Python/blob/master/Guna.ipynb\" target=\"_parent\"><img src=\"https://colab.research.google.com/assets/colab-badge.svg\" alt=\"Open In Colab\"/></a>"
      ]
    },
    {
      "cell_type": "code",
      "metadata": {
        "id": "OIi5KrdO1hvK",
        "colab_type": "code",
        "colab": {}
      },
      "source": [
        "#answer 1"
      ],
      "execution_count": null,
      "outputs": []
    },
    {
      "cell_type": "code",
      "metadata": {
        "id": "NKSD5sqPzspl",
        "colab_type": "code",
        "colab": {
          "base_uri": "https://localhost:8080/",
          "height": 34
        },
        "outputId": "e5751f14-ba6a-4d71-83f7-8a3b3a816825"
      },
      "source": [
        " altitude=1000\n",
        "if altitude<=1000:\n",
        "    print (\"safe to land\")\n",
        "elif altitude<5000:\n",
        "    print (\"Bring down to 1000\")\n",
        "else:\n",
        "    print (\"turn around\")"
      ],
      "execution_count": null,
      "outputs": [
        {
          "output_type": "stream",
          "text": [
            "safe to land\n"
          ],
          "name": "stdout"
        }
      ]
    },
    {
      "cell_type": "code",
      "metadata": {
        "id": "7iBfSfiS1E_c",
        "colab_type": "code",
        "colab": {
          "base_uri": "https://localhost:8080/",
          "height": 34
        },
        "outputId": "3eb1fbcb-8475-4a37-e6bd-f021ed1817dd"
      },
      "source": [
        " altitude=4500\n",
        "if altitude<=1000:\n",
        "    print (\"safe to land\")\n",
        "elif altitude<5000:\n",
        "    print (\"Bring down to 1000\")\n",
        "else:\n",
        "    print (\"turn around\")"
      ],
      "execution_count": null,
      "outputs": [
        {
          "output_type": "stream",
          "text": [
            "Bring down to 1000\n"
          ],
          "name": "stdout"
        }
      ]
    },
    {
      "cell_type": "code",
      "metadata": {
        "id": "QRuZIeJZ1RuV",
        "colab_type": "code",
        "colab": {
          "base_uri": "https://localhost:8080/",
          "height": 34
        },
        "outputId": "79bb9eaf-7d97-4663-e8d2-5d2dbb140a12"
      },
      "source": [
        " altitude=6000\n",
        "if altitude<=1000:\n",
        "    print (\"safe to land\")\n",
        "elif altitude<5000:\n",
        "    print (\"Bring down to 1000\")\n",
        "else:\n",
        "    print (\"turn around\")"
      ],
      "execution_count": null,
      "outputs": [
        {
          "output_type": "stream",
          "text": [
            "turn around\n"
          ],
          "name": "stdout"
        }
      ]
    },
    {
      "cell_type": "code",
      "metadata": {
        "id": "ylEqVBot1a9w",
        "colab_type": "code",
        "colab": {}
      },
      "source": [
        "#answer 2"
      ],
      "execution_count": null,
      "outputs": []
    },
    {
      "cell_type": "code",
      "metadata": {
        "id": "3lrHH615-raf",
        "colab_type": "code",
        "colab": {
          "base_uri": "https://localhost:8080/",
          "height": 836
        },
        "outputId": "577c620b-2b0a-423d-c6aa-513b9c9067d3"
      },
      "source": [
        " \n",
        " \n",
        "print(\"Prime numbers between 1 to 200 are\")\n",
        " \n",
        "for num in range(1,200):\n",
        "   \n",
        "   if num > 1:\n",
        "       for i in range(2, num):\n",
        "           if (num % i) == 0:\n",
        "               break\n",
        "       else:\n",
        "           print(num)"
      ],
      "execution_count": 34,
      "outputs": [
        {
          "output_type": "stream",
          "text": [
            "Prime numbers between 1 to 200 are\n",
            "2\n",
            "3\n",
            "5\n",
            "7\n",
            "11\n",
            "13\n",
            "17\n",
            "19\n",
            "23\n",
            "29\n",
            "31\n",
            "37\n",
            "41\n",
            "43\n",
            "47\n",
            "53\n",
            "59\n",
            "61\n",
            "67\n",
            "71\n",
            "73\n",
            "79\n",
            "83\n",
            "89\n",
            "97\n",
            "101\n",
            "103\n",
            "107\n",
            "109\n",
            "113\n",
            "127\n",
            "131\n",
            "137\n",
            "139\n",
            "149\n",
            "151\n",
            "157\n",
            "163\n",
            "167\n",
            "173\n",
            "179\n",
            "181\n",
            "191\n",
            "193\n",
            "197\n",
            "199\n"
          ],
          "name": "stdout"
        }
      ]
    },
    {
      "cell_type": "code",
      "metadata": {
        "id": "r2cGJQvnAqY_",
        "colab_type": "code",
        "colab": {}
      },
      "source": [
        ""
      ],
      "execution_count": null,
      "outputs": []
    }
  ]
}